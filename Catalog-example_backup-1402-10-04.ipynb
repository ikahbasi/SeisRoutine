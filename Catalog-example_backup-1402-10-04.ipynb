{
 "cells": [
  {
   "cell_type": "code",
   "execution_count": 14,
   "metadata": {},
   "outputs": [],
   "source": [
    "from obspy.clients.fdsn.client import Client\n",
    "from obspy import UTCDateTime as utc\n",
    "import seaborn as sns\n",
    "from Catalog import inspector\n",
    "import Catalog"
   ]
  },
  {
   "cell_type": "code",
   "execution_count": null,
   "metadata": {},
   "outputs": [],
   "source": [
    "# from obspy.clients.fdsn.header import URL_MAPPINGS\n",
    "# for key in sorted(URL_MAPPINGS.keys()):\n",
    "#     print(\"{0:<11} {1}\".format(key,  URL_MAPPINGS[key]))  \n",
    "#     try:\n",
    "#         client = Client(key)\n",
    "#         t1 = utc(\"2020-01-01T00:00:00\")\n",
    "#         t2 = utc(\"2020-01-01T06:00:00\")\n",
    "\n",
    "#         t1 = utc(2015, 1, 1)\n",
    "#         t2 = t1 + 10 * 24 * 60 * 60  # Ten days\n",
    "\n",
    "#         cat = client.get_events(starttime=t1, endtime=t2, minmagnitude=4.5,\n",
    "#                                 includearrivals=True)\n",
    "#         npicks = sum([len(ev.picks) for ev in cat])\n",
    "#         print('number', npicks)\n",
    "#         if npicks != 0:\n",
    "#             p = 0\n",
    "#             s = 0\n",
    "#             n = 0\n",
    "#             for ev in cat:\n",
    "#                 for pick in ev.picks:\n",
    "#                     if pick.phase_hint == None:\n",
    "#                         n += 1\n",
    "#                         continue\n",
    "#                     if pick.phase_hint.upper()[0] == 'P':\n",
    "#                         p += 1\n",
    "#                     elif pick.phase_hint.upper()[0] == 'S':\n",
    "#                         s += 1\n",
    "#                     else:\n",
    "#                         n += 1\n",
    "#             print(p, s, n)\n",
    "#     except Exception as error:\n",
    "#         print(error)"
   ]
  },
  {
   "cell_type": "code",
   "execution_count": 2,
   "metadata": {},
   "outputs": [
    {
     "ename": "KeyboardInterrupt",
     "evalue": "",
     "output_type": "error",
     "traceback": [
      "\u001b[0;31m---------------------------------------------------------------------------\u001b[0m",
      "\u001b[0;31mKeyboardInterrupt\u001b[0m                         Traceback (most recent call last)",
      "Cell \u001b[0;32mIn[2], line 4\u001b[0m\n\u001b[1;32m      2\u001b[0m t0 \u001b[38;5;241m=\u001b[39m utc(\u001b[38;5;241m2015\u001b[39m, \u001b[38;5;241m1\u001b[39m, \u001b[38;5;241m1\u001b[39m)\n\u001b[1;32m      3\u001b[0m t1 \u001b[38;5;241m=\u001b[39m t0 \u001b[38;5;241m+\u001b[39m \u001b[38;5;241m10\u001b[39m \u001b[38;5;241m*\u001b[39m \u001b[38;5;241m24\u001b[39m \u001b[38;5;241m*\u001b[39m \u001b[38;5;241m60\u001b[39m \u001b[38;5;241m*\u001b[39m \u001b[38;5;241m60\u001b[39m  \u001b[38;5;66;03m# Ten days\u001b[39;00m\n\u001b[0;32m----> 4\u001b[0m cat \u001b[38;5;241m=\u001b[39m \u001b[43mclient\u001b[49m\u001b[38;5;241;43m.\u001b[39;49m\u001b[43mget_events\u001b[49m\u001b[43m(\u001b[49m\u001b[43mt0\u001b[49m\u001b[43m,\u001b[49m\u001b[43m \u001b[49m\u001b[43mt1\u001b[49m\u001b[43m,\u001b[49m\u001b[43m \u001b[49m\u001b[43mincludearrivals\u001b[49m\u001b[38;5;241;43m=\u001b[39;49m\u001b[38;5;28;43;01mTrue\u001b[39;49;00m\u001b[43m)\u001b[49m\n",
      "File \u001b[0;32m~/Applications/ObsPy_1.4.0/lib/python3.10/site-packages/obspy/clients/fdsn/client.py:556\u001b[0m, in \u001b[0;36mClient.get_events\u001b[0;34m(self, starttime, endtime, minlatitude, maxlatitude, minlongitude, maxlongitude, latitude, longitude, minradius, maxradius, mindepth, maxdepth, minmagnitude, maxmagnitude, magnitudetype, eventtype, includeallorigins, includeallmagnitudes, includearrivals, eventid, limit, offset, orderby, catalog, contributor, updatedafter, filename, **kwargs)\u001b[0m\n\u001b[1;32m    554\u001b[0m     data_stream\u001b[38;5;241m.\u001b[39mclose()\n\u001b[1;32m    555\u001b[0m \u001b[38;5;28;01melse\u001b[39;00m:\n\u001b[0;32m--> 556\u001b[0m     cat \u001b[38;5;241m=\u001b[39m \u001b[43mobspy\u001b[49m\u001b[38;5;241;43m.\u001b[39;49m\u001b[43mread_events\u001b[49m\u001b[43m(\u001b[49m\u001b[43mdata_stream\u001b[49m\u001b[43m,\u001b[49m\u001b[43m \u001b[49m\u001b[38;5;28;43mformat\u001b[39;49m\u001b[38;5;241;43m=\u001b[39;49m\u001b[38;5;124;43m\"\u001b[39;49m\u001b[38;5;124;43mquakeml\u001b[39;49m\u001b[38;5;124;43m\"\u001b[39;49m\u001b[43m)\u001b[49m\n\u001b[1;32m    557\u001b[0m     data_stream\u001b[38;5;241m.\u001b[39mclose()\n\u001b[1;32m    558\u001b[0m     \u001b[38;5;28;01mreturn\u001b[39;00m cat\n",
      "File \u001b[0;32m~/Applications/ObsPy_1.4.0/lib/python3.10/site-packages/decorator.py:232\u001b[0m, in \u001b[0;36mdecorate.<locals>.fun\u001b[0;34m(*args, **kw)\u001b[0m\n\u001b[1;32m    230\u001b[0m \u001b[38;5;28;01mif\u001b[39;00m \u001b[38;5;129;01mnot\u001b[39;00m kwsyntax:\n\u001b[1;32m    231\u001b[0m     args, kw \u001b[38;5;241m=\u001b[39m fix(args, kw, sig)\n\u001b[0;32m--> 232\u001b[0m \u001b[38;5;28;01mreturn\u001b[39;00m \u001b[43mcaller\u001b[49m\u001b[43m(\u001b[49m\u001b[43mfunc\u001b[49m\u001b[43m,\u001b[49m\u001b[43m \u001b[49m\u001b[38;5;241;43m*\u001b[39;49m\u001b[43m(\u001b[49m\u001b[43mextras\u001b[49m\u001b[43m \u001b[49m\u001b[38;5;241;43m+\u001b[39;49m\u001b[43m \u001b[49m\u001b[43margs\u001b[49m\u001b[43m)\u001b[49m\u001b[43m,\u001b[49m\u001b[43m \u001b[49m\u001b[38;5;241;43m*\u001b[39;49m\u001b[38;5;241;43m*\u001b[39;49m\u001b[43mkw\u001b[49m\u001b[43m)\u001b[49m\n",
      "File \u001b[0;32m~/Applications/ObsPy_1.4.0/lib/python3.10/site-packages/obspy/core/util/decorator.py:297\u001b[0m, in \u001b[0;36mmap_example_filename.<locals>._map_example_filename\u001b[0;34m(func, *args, **kwargs)\u001b[0m\n\u001b[1;32m    295\u001b[0m                 \u001b[38;5;28;01mexcept\u001b[39;00m \u001b[38;5;167;01mIOError\u001b[39;00m:\n\u001b[1;32m    296\u001b[0m                     \u001b[38;5;28;01mpass\u001b[39;00m\n\u001b[0;32m--> 297\u001b[0m \u001b[38;5;28;01mreturn\u001b[39;00m \u001b[43mfunc\u001b[49m\u001b[43m(\u001b[49m\u001b[38;5;241;43m*\u001b[39;49m\u001b[43margs\u001b[49m\u001b[43m,\u001b[49m\u001b[43m \u001b[49m\u001b[38;5;241;43m*\u001b[39;49m\u001b[38;5;241;43m*\u001b[39;49m\u001b[43mkwargs\u001b[49m\u001b[43m)\u001b[49m\n",
      "File \u001b[0;32m~/Applications/ObsPy_1.4.0/lib/python3.10/site-packages/obspy/core/event/catalog.py:810\u001b[0m, in \u001b[0;36mread_events\u001b[0;34m(pathname_or_url, format, **kwargs)\u001b[0m\n\u001b[1;32m    808\u001b[0m     \u001b[38;5;28;01mreturn\u001b[39;00m _create_example_catalog()\n\u001b[1;32m    809\u001b[0m \u001b[38;5;28;01melse\u001b[39;00m:\n\u001b[0;32m--> 810\u001b[0m     \u001b[38;5;28;01mreturn\u001b[39;00m \u001b[43m_generic_reader\u001b[49m\u001b[43m(\u001b[49m\u001b[43mpathname_or_url\u001b[49m\u001b[43m,\u001b[49m\u001b[43m \u001b[49m\u001b[43m_read\u001b[49m\u001b[43m,\u001b[49m\u001b[43m \u001b[49m\u001b[38;5;28;43mformat\u001b[39;49m\u001b[38;5;241;43m=\u001b[39;49m\u001b[38;5;28;43mformat\u001b[39;49m\u001b[43m,\u001b[49m\u001b[43m \u001b[49m\u001b[38;5;241;43m*\u001b[39;49m\u001b[38;5;241;43m*\u001b[39;49m\u001b[43mkwargs\u001b[49m\u001b[43m)\u001b[49m\n",
      "File \u001b[0;32m~/Applications/ObsPy_1.4.0/lib/python3.10/site-packages/obspy/core/util/base.py:624\u001b[0m, in \u001b[0;36m_generic_reader\u001b[0;34m(pathname_or_url, callback_func, **kwargs)\u001b[0m\n\u001b[1;32m    620\u001b[0m \u001b[38;5;28;01mif\u001b[39;00m \u001b[38;5;129;01mnot\u001b[39;00m \u001b[38;5;28misinstance\u001b[39m(pathname_or_url, \u001b[38;5;28mstr\u001b[39m):\n\u001b[1;32m    621\u001b[0m     \u001b[38;5;66;03m# not a string - we assume a file-like object\u001b[39;00m\n\u001b[1;32m    622\u001b[0m     \u001b[38;5;28;01mtry\u001b[39;00m:\n\u001b[1;32m    623\u001b[0m         \u001b[38;5;66;03m# first try reading directly\u001b[39;00m\n\u001b[0;32m--> 624\u001b[0m         generic \u001b[38;5;241m=\u001b[39m \u001b[43mcallback_func\u001b[49m\u001b[43m(\u001b[49m\u001b[43mpathname_or_url\u001b[49m\u001b[43m,\u001b[49m\u001b[43m \u001b[49m\u001b[38;5;241;43m*\u001b[39;49m\u001b[38;5;241;43m*\u001b[39;49m\u001b[43mkwargs\u001b[49m\u001b[43m)\u001b[49m\n\u001b[1;32m    625\u001b[0m     \u001b[38;5;28;01mexcept\u001b[39;00m \u001b[38;5;167;01mTypeError\u001b[39;00m:\n\u001b[1;32m    626\u001b[0m         \u001b[38;5;66;03m# if this fails, create a temporary file which is read directly\u001b[39;00m\n\u001b[1;32m    627\u001b[0m         \u001b[38;5;66;03m# from the file system\u001b[39;00m\n\u001b[1;32m    628\u001b[0m         pathname_or_url\u001b[38;5;241m.\u001b[39mseek(\u001b[38;5;241m0\u001b[39m)\n",
      "File \u001b[0;32m~/Applications/ObsPy_1.4.0/lib/python3.10/site-packages/decorator.py:232\u001b[0m, in \u001b[0;36mdecorate.<locals>.fun\u001b[0;34m(*args, **kw)\u001b[0m\n\u001b[1;32m    230\u001b[0m \u001b[38;5;28;01mif\u001b[39;00m \u001b[38;5;129;01mnot\u001b[39;00m kwsyntax:\n\u001b[1;32m    231\u001b[0m     args, kw \u001b[38;5;241m=\u001b[39m fix(args, kw, sig)\n\u001b[0;32m--> 232\u001b[0m \u001b[38;5;28;01mreturn\u001b[39;00m \u001b[43mcaller\u001b[49m\u001b[43m(\u001b[49m\u001b[43mfunc\u001b[49m\u001b[43m,\u001b[49m\u001b[43m \u001b[49m\u001b[38;5;241;43m*\u001b[39;49m\u001b[43m(\u001b[49m\u001b[43mextras\u001b[49m\u001b[43m \u001b[49m\u001b[38;5;241;43m+\u001b[39;49m\u001b[43m \u001b[49m\u001b[43margs\u001b[49m\u001b[43m)\u001b[49m\u001b[43m,\u001b[49m\u001b[43m \u001b[49m\u001b[38;5;241;43m*\u001b[39;49m\u001b[38;5;241;43m*\u001b[39;49m\u001b[43mkw\u001b[49m\u001b[43m)\u001b[49m\n",
      "File \u001b[0;32m~/Applications/ObsPy_1.4.0/lib/python3.10/site-packages/obspy/core/util/decorator.py:142\u001b[0m, in \u001b[0;36muncompress_file\u001b[0;34m(func, filename, *args, **kwargs)\u001b[0m\n\u001b[1;32m    140\u001b[0m     \u001b[38;5;28;01mreturn\u001b[39;00m func(filename, \u001b[38;5;241m*\u001b[39margs, \u001b[38;5;241m*\u001b[39m\u001b[38;5;241m*\u001b[39mkwargs)\n\u001b[1;32m    141\u001b[0m \u001b[38;5;28;01mif\u001b[39;00m \u001b[38;5;129;01mnot\u001b[39;00m \u001b[38;5;28misinstance\u001b[39m(filename, \u001b[38;5;28mstr\u001b[39m):\n\u001b[0;32m--> 142\u001b[0m     \u001b[38;5;28;01mreturn\u001b[39;00m \u001b[43mfunc\u001b[49m\u001b[43m(\u001b[49m\u001b[43mfilename\u001b[49m\u001b[43m,\u001b[49m\u001b[43m \u001b[49m\u001b[38;5;241;43m*\u001b[39;49m\u001b[43margs\u001b[49m\u001b[43m,\u001b[49m\u001b[43m \u001b[49m\u001b[38;5;241;43m*\u001b[39;49m\u001b[38;5;241;43m*\u001b[39;49m\u001b[43mkwargs\u001b[49m\u001b[43m)\u001b[49m\n\u001b[1;32m    143\u001b[0m \u001b[38;5;28;01melif\u001b[39;00m \u001b[38;5;129;01mnot\u001b[39;00m Path(filename)\u001b[38;5;241m.\u001b[39mexists():\n\u001b[1;32m    144\u001b[0m     msg \u001b[38;5;241m=\u001b[39m \u001b[38;5;124m\"\u001b[39m\u001b[38;5;124mFile not found \u001b[39m\u001b[38;5;124m'\u001b[39m\u001b[38;5;132;01m%s\u001b[39;00m\u001b[38;5;124m'\u001b[39m\u001b[38;5;124m\"\u001b[39m \u001b[38;5;241m%\u001b[39m (filename)\n",
      "File \u001b[0;32m~/Applications/ObsPy_1.4.0/lib/python3.10/site-packages/obspy/core/event/catalog.py:818\u001b[0m, in \u001b[0;36m_read\u001b[0;34m(filename, format, **kwargs)\u001b[0m\n\u001b[1;32m    813\u001b[0m \u001b[38;5;129m@uncompress_file\u001b[39m\n\u001b[1;32m    814\u001b[0m \u001b[38;5;28;01mdef\u001b[39;00m \u001b[38;5;21m_read\u001b[39m(filename, \u001b[38;5;28mformat\u001b[39m\u001b[38;5;241m=\u001b[39m\u001b[38;5;28;01mNone\u001b[39;00m, \u001b[38;5;241m*\u001b[39m\u001b[38;5;241m*\u001b[39mkwargs):\n\u001b[1;32m    815\u001b[0m \u001b[38;5;250m    \u001b[39m\u001b[38;5;124;03m\"\"\"\u001b[39;00m\n\u001b[1;32m    816\u001b[0m \u001b[38;5;124;03m    Reads a single event file into a ObsPy Catalog object.\u001b[39;00m\n\u001b[1;32m    817\u001b[0m \u001b[38;5;124;03m    \"\"\"\u001b[39;00m\n\u001b[0;32m--> 818\u001b[0m     catalog, \u001b[38;5;28mformat\u001b[39m \u001b[38;5;241m=\u001b[39m \u001b[43m_read_from_plugin\u001b[49m\u001b[43m(\u001b[49m\u001b[38;5;124;43m'\u001b[39;49m\u001b[38;5;124;43mevent\u001b[39;49m\u001b[38;5;124;43m'\u001b[39;49m\u001b[43m,\u001b[49m\u001b[43m \u001b[49m\u001b[43mfilename\u001b[49m\u001b[43m,\u001b[49m\u001b[43m \u001b[49m\u001b[38;5;28;43mformat\u001b[39;49m\u001b[38;5;241;43m=\u001b[39;49m\u001b[38;5;28;43mformat\u001b[39;49m\u001b[43m,\u001b[49m\n\u001b[1;32m    819\u001b[0m \u001b[43m                                        \u001b[49m\u001b[38;5;241;43m*\u001b[39;49m\u001b[38;5;241;43m*\u001b[39;49m\u001b[43mkwargs\u001b[49m\u001b[43m)\u001b[49m\n\u001b[1;32m    820\u001b[0m     \u001b[38;5;28;01mfor\u001b[39;00m event \u001b[38;5;129;01min\u001b[39;00m catalog:\n\u001b[1;32m    821\u001b[0m         event\u001b[38;5;241m.\u001b[39m_format \u001b[38;5;241m=\u001b[39m \u001b[38;5;28mformat\u001b[39m\n",
      "File \u001b[0;32m~/Applications/ObsPy_1.4.0/lib/python3.10/site-packages/obspy/core/util/base.py:423\u001b[0m, in \u001b[0;36m_read_from_plugin\u001b[0;34m(plugin_type, filename, format, **kwargs)\u001b[0m\n\u001b[1;32m    421\u001b[0m     \u001b[38;5;28;01mraise\u001b[39;00m \u001b[38;5;167;01mTypeError\u001b[39;00m(msg \u001b[38;5;241m%\u001b[39m (format_ep\u001b[38;5;241m.\u001b[39mname, \u001b[38;5;124m'\u001b[39m\u001b[38;5;124m, \u001b[39m\u001b[38;5;124m'\u001b[39m\u001b[38;5;241m.\u001b[39mjoin(eps)))\n\u001b[1;32m    422\u001b[0m \u001b[38;5;66;03m# read\u001b[39;00m\n\u001b[0;32m--> 423\u001b[0m list_obj \u001b[38;5;241m=\u001b[39m \u001b[43mread_format\u001b[49m\u001b[43m(\u001b[49m\u001b[43mfilename\u001b[49m\u001b[43m,\u001b[49m\u001b[43m \u001b[49m\u001b[38;5;241;43m*\u001b[39;49m\u001b[38;5;241;43m*\u001b[39;49m\u001b[43mkwargs\u001b[49m\u001b[43m)\u001b[49m\n\u001b[1;32m    424\u001b[0m \u001b[38;5;28;01mreturn\u001b[39;00m list_obj, format_ep\u001b[38;5;241m.\u001b[39mname\n",
      "File \u001b[0;32m~/Applications/ObsPy_1.4.0/lib/python3.10/site-packages/obspy/io/quakeml/core.py:1833\u001b[0m, in \u001b[0;36m_read_quakeml\u001b[0;34m(filename)\u001b[0m\n\u001b[1;32m   1810\u001b[0m \u001b[38;5;28;01mdef\u001b[39;00m \u001b[38;5;21m_read_quakeml\u001b[39m(filename):\n\u001b[1;32m   1811\u001b[0m \u001b[38;5;250m    \u001b[39m\u001b[38;5;124;03m\"\"\"\u001b[39;00m\n\u001b[1;32m   1812\u001b[0m \u001b[38;5;124;03m    Reads a QuakeML file and returns an ObsPy Catalog object.\u001b[39;00m\n\u001b[1;32m   1813\u001b[0m \n\u001b[0;32m   (...)\u001b[0m\n\u001b[1;32m   1831\u001b[0m \u001b[38;5;124;03m    2006-09-10T04:26:33.610000Z |  +9.614, +121.961 | 9.8  MS\u001b[39;00m\n\u001b[1;32m   1832\u001b[0m \u001b[38;5;124;03m    \"\"\"\u001b[39;00m\n\u001b[0;32m-> 1833\u001b[0m     \u001b[38;5;28;01mreturn\u001b[39;00m \u001b[43mUnpickler\u001b[49m\u001b[43m(\u001b[49m\u001b[43m)\u001b[49m\u001b[38;5;241;43m.\u001b[39;49m\u001b[43mload\u001b[49m\u001b[43m(\u001b[49m\u001b[43mfilename\u001b[49m\u001b[43m)\u001b[49m\n",
      "File \u001b[0;32m~/Applications/ObsPy_1.4.0/lib/python3.10/site-packages/obspy/io/quakeml/core.py:149\u001b[0m, in \u001b[0;36mUnpickler.load\u001b[0;34m(self, file)\u001b[0m\n\u001b[1;32m    140\u001b[0m \u001b[38;5;250m\u001b[39m\u001b[38;5;124;03m\"\"\"\u001b[39;00m\n\u001b[1;32m    141\u001b[0m \u001b[38;5;124;03mReads QuakeML file into ObsPy catalog object.\u001b[39;00m\n\u001b[1;32m    142\u001b[0m \n\u001b[0;32m   (...)\u001b[0m\n\u001b[1;32m    146\u001b[0m \u001b[38;5;124;03m:returns: ObsPy Catalog object.\u001b[39;00m\n\u001b[1;32m    147\u001b[0m \u001b[38;5;124;03m\"\"\"\u001b[39;00m\n\u001b[1;32m    148\u001b[0m \u001b[38;5;28mself\u001b[39m\u001b[38;5;241m.\u001b[39mxml_doc \u001b[38;5;241m=\u001b[39m _xml_doc_from_anything(file)\n\u001b[0;32m--> 149\u001b[0m \u001b[38;5;28;01mreturn\u001b[39;00m \u001b[38;5;28;43mself\u001b[39;49m\u001b[38;5;241;43m.\u001b[39;49m\u001b[43m_deserialize\u001b[49m\u001b[43m(\u001b[49m\u001b[43m)\u001b[49m\n",
      "File \u001b[0;32m~/Applications/ObsPy_1.4.0/lib/python3.10/site-packages/obspy/io/quakeml/core.py:984\u001b[0m, in \u001b[0;36mUnpickler._deserialize\u001b[0;34m(self)\u001b[0m\n\u001b[1;32m    982\u001b[0m event\u001b[38;5;241m.\u001b[39mpicks \u001b[38;5;241m=\u001b[39m []\n\u001b[1;32m    983\u001b[0m \u001b[38;5;28;01mfor\u001b[39;00m pick_el \u001b[38;5;129;01min\u001b[39;00m \u001b[38;5;28mself\u001b[39m\u001b[38;5;241m.\u001b[39m_xpath(\u001b[38;5;124m'\u001b[39m\u001b[38;5;124mpick\u001b[39m\u001b[38;5;124m'\u001b[39m, event_el):\n\u001b[0;32m--> 984\u001b[0m     pick \u001b[38;5;241m=\u001b[39m \u001b[38;5;28;43mself\u001b[39;49m\u001b[38;5;241;43m.\u001b[39;49m\u001b[43m_pick\u001b[49m\u001b[43m(\u001b[49m\u001b[43mpick_el\u001b[49m\u001b[43m)\u001b[49m\n\u001b[1;32m    985\u001b[0m     event\u001b[38;5;241m.\u001b[39mpicks\u001b[38;5;241m.\u001b[39mappend(pick)\n\u001b[1;32m    986\u001b[0m \u001b[38;5;66;03m# amplitudes\u001b[39;00m\n",
      "File \u001b[0;32m~/Applications/ObsPy_1.4.0/lib/python3.10/site-packages/obspy/io/quakeml/core.py:474\u001b[0m, in \u001b[0;36mUnpickler._pick\u001b[0;34m(self, element)\u001b[0m\n\u001b[1;32m    472\u001b[0m obj\u001b[38;5;241m.\u001b[39mwaveform_id \u001b[38;5;241m=\u001b[39m \u001b[38;5;28mself\u001b[39m\u001b[38;5;241m.\u001b[39m_waveform_id(element)\n\u001b[1;32m    473\u001b[0m \u001b[38;5;66;03m# optional parameter\u001b[39;00m\n\u001b[0;32m--> 474\u001b[0m obj\u001b[38;5;241m.\u001b[39mfilter_id \u001b[38;5;241m=\u001b[39m \u001b[38;5;28;43mself\u001b[39;49m\u001b[38;5;241;43m.\u001b[39;49m\u001b[43m_xpath2obj\u001b[49m\u001b[43m(\u001b[49m\u001b[38;5;124;43m'\u001b[39;49m\u001b[38;5;124;43mfilterID\u001b[39;49m\u001b[38;5;124;43m'\u001b[39;49m\u001b[43m,\u001b[49m\u001b[43m \u001b[49m\u001b[43melement\u001b[49m\u001b[43m)\u001b[49m\n\u001b[1;32m    475\u001b[0m obj\u001b[38;5;241m.\u001b[39mmethod_id \u001b[38;5;241m=\u001b[39m \u001b[38;5;28mself\u001b[39m\u001b[38;5;241m.\u001b[39m_xpath2obj(\u001b[38;5;124m'\u001b[39m\u001b[38;5;124mmethodID\u001b[39m\u001b[38;5;124m'\u001b[39m, element)\n\u001b[1;32m    476\u001b[0m obj\u001b[38;5;241m.\u001b[39mhorizontal_slowness, obj\u001b[38;5;241m.\u001b[39mhorizontal_slowness_errors \u001b[38;5;241m=\u001b[39m \\\n\u001b[1;32m    477\u001b[0m     \u001b[38;5;28mself\u001b[39m\u001b[38;5;241m.\u001b[39m_float_value(element, \u001b[38;5;124m'\u001b[39m\u001b[38;5;124mhorizontalSlowness\u001b[39m\u001b[38;5;124m'\u001b[39m)\n",
      "File \u001b[0;32m~/Applications/ObsPy_1.4.0/lib/python3.10/site-packages/obspy/io/quakeml/core.py:164\u001b[0m, in \u001b[0;36mUnpickler._xpath2obj\u001b[0;34m(self, xpath, element, convert_to, namespace)\u001b[0m\n\u001b[1;32m    163\u001b[0m \u001b[38;5;28;01mdef\u001b[39;00m \u001b[38;5;21m_xpath2obj\u001b[39m(\u001b[38;5;28mself\u001b[39m, xpath, element\u001b[38;5;241m=\u001b[39m\u001b[38;5;28;01mNone\u001b[39;00m, convert_to\u001b[38;5;241m=\u001b[39m\u001b[38;5;28mstr\u001b[39m, namespace\u001b[38;5;241m=\u001b[39m\u001b[38;5;28;01mNone\u001b[39;00m):\n\u001b[0;32m--> 164\u001b[0m     q \u001b[38;5;241m=\u001b[39m \u001b[38;5;28;43mself\u001b[39;49m\u001b[38;5;241;43m.\u001b[39;49m\u001b[43m_xpath\u001b[49m\u001b[43m(\u001b[49m\u001b[43mxpath\u001b[49m\u001b[43m,\u001b[49m\u001b[43m \u001b[49m\u001b[43melement\u001b[49m\u001b[38;5;241;43m=\u001b[39;49m\u001b[43melement\u001b[49m\u001b[43m,\u001b[49m\u001b[43m \u001b[49m\u001b[43mnamespace\u001b[49m\u001b[38;5;241;43m=\u001b[39;49m\u001b[43mnamespace\u001b[49m\u001b[43m)\u001b[49m\n\u001b[1;32m    165\u001b[0m     \u001b[38;5;28;01mif\u001b[39;00m \u001b[38;5;129;01mnot\u001b[39;00m q:\n\u001b[1;32m    166\u001b[0m         \u001b[38;5;28;01mreturn\u001b[39;00m \u001b[38;5;28;01mNone\u001b[39;00m\n",
      "File \u001b[0;32m~/Applications/ObsPy_1.4.0/lib/python3.10/site-packages/obspy/io/quakeml/core.py:195\u001b[0m, in \u001b[0;36mUnpickler._xpath\u001b[0;34m(self, xpath, element, namespace)\u001b[0m\n\u001b[1;32m    191\u001b[0m         msg \u001b[38;5;241m=\u001b[39m (\u001b[38;5;124m'\u001b[39m\u001b[38;5;132;01m%s\u001b[39;00m\u001b[38;5;124m. The attribute \u001b[39m\u001b[38;5;124m\"\u001b[39m\u001b[38;5;132;01m%s\u001b[39;00m\u001b[38;5;124m\"\u001b[39m\u001b[38;5;124m will not be set and will be missing\u001b[39m\u001b[38;5;124m'\u001b[39m\n\u001b[1;32m    192\u001b[0m                \u001b[38;5;124m'\u001b[39m\u001b[38;5;124m in the resulting object.\u001b[39m\u001b[38;5;124m'\u001b[39m \u001b[38;5;241m%\u001b[39m (e\u001b[38;5;241m.\u001b[39margs[\u001b[38;5;241m0\u001b[39m], key))\n\u001b[1;32m    193\u001b[0m         warnings\u001b[38;5;241m.\u001b[39mwarn(msg)\n\u001b[0;32m--> 195\u001b[0m \u001b[38;5;28;01mdef\u001b[39;00m \u001b[38;5;21m_xpath\u001b[39m(\u001b[38;5;28mself\u001b[39m, xpath, element\u001b[38;5;241m=\u001b[39m\u001b[38;5;28;01mNone\u001b[39;00m, namespace\u001b[38;5;241m=\u001b[39m\u001b[38;5;28;01mNone\u001b[39;00m):\n\u001b[1;32m    196\u001b[0m     \u001b[38;5;28;01mif\u001b[39;00m element \u001b[38;5;129;01mis\u001b[39;00m \u001b[38;5;28;01mNone\u001b[39;00m:\n\u001b[1;32m    197\u001b[0m         element \u001b[38;5;241m=\u001b[39m \u001b[38;5;28mself\u001b[39m\u001b[38;5;241m.\u001b[39mxml_root\n",
      "\u001b[0;31mKeyboardInterrupt\u001b[0m: "
     ]
    }
   ],
   "source": [
    "client = Client(\"ETH\", timeout=10)\n",
    "t0 = utc(2015, 1, 1)\n",
    "t1 = t0 + 10 * 24 * 60 * 60  # Ten days\n",
    "cat = client.get_events(t0, t1, includearrivals=True)"
   ]
  },
  {
   "cell_type": "code",
   "execution_count": null,
   "metadata": {},
   "outputs": [],
   "source": [
    "p = 0\n",
    "s = 0\n",
    "n = 0\n",
    "for ev in catalog:\n",
    "    for pick in ev.picks:\n",
    "        if pick.phase_hint == None:\n",
    "            n += 1\n",
    "            continue\n",
    "        if pick.phase_hint.upper()[0] == 'P':\n",
    "            p += 1\n",
    "        elif pick.phase_hint.upper()[0] == 'S':\n",
    "            s += 1\n",
    "        else:\n",
    "            n += 1\n",
    "print(p, s, n)"
   ]
  },
  {
   "cell_type": "code",
   "execution_count": 3,
   "metadata": {},
   "outputs": [
    {
     "ename": "KeyboardInterrupt",
     "evalue": "",
     "output_type": "error",
     "traceback": [
      "\u001b[0;31m---------------------------------------------------------------------------\u001b[0m",
      "\u001b[0;31mKeyboardInterrupt\u001b[0m                         Traceback (most recent call last)",
      "Cell \u001b[0;32mIn[3], line 4\u001b[0m\n\u001b[1;32m      2\u001b[0m t1 \u001b[38;5;241m=\u001b[39m utc(\u001b[38;5;124m\"\u001b[39m\u001b[38;5;124m2020-01-01T00:00:00\u001b[39m\u001b[38;5;124m\"\u001b[39m)\n\u001b[1;32m      3\u001b[0m t2 \u001b[38;5;241m=\u001b[39m utc(\u001b[38;5;124m\"\u001b[39m\u001b[38;5;124m2020-01-02T00:00:00\u001b[39m\u001b[38;5;124m\"\u001b[39m)\n\u001b[0;32m----> 4\u001b[0m cat \u001b[38;5;241m=\u001b[39m \u001b[43mclient\u001b[49m\u001b[38;5;241;43m.\u001b[39;49m\u001b[43mget_events\u001b[49m\u001b[43m(\u001b[49m\u001b[43mstarttime\u001b[49m\u001b[38;5;241;43m=\u001b[39;49m\u001b[43mt1\u001b[49m\u001b[43m,\u001b[49m\u001b[43m \u001b[49m\u001b[43mendtime\u001b[49m\u001b[38;5;241;43m=\u001b[39;49m\u001b[43mt2\u001b[49m\u001b[43m,\u001b[49m\u001b[43m \u001b[49m\u001b[43mminmagnitude\u001b[49m\u001b[38;5;241;43m=\u001b[39;49m\u001b[38;5;241;43m4.5\u001b[39;49m\u001b[43m,\u001b[49m\n\u001b[1;32m      5\u001b[0m \u001b[43m                        \u001b[49m\u001b[43mincludearrivals\u001b[49m\u001b[38;5;241;43m=\u001b[39;49m\u001b[38;5;28;43;01mTrue\u001b[39;49;00m\u001b[43m,\u001b[49m\u001b[43m \u001b[49m\u001b[43mincludeallorigins\u001b[49m\u001b[38;5;241;43m=\u001b[39;49m\u001b[38;5;28;43;01mFalse\u001b[39;49;00m\u001b[43m)\u001b[49m\n",
      "File \u001b[0;32m~/Applications/ObsPy_1.4.0/lib/python3.10/site-packages/obspy/clients/fdsn/client.py:556\u001b[0m, in \u001b[0;36mClient.get_events\u001b[0;34m(self, starttime, endtime, minlatitude, maxlatitude, minlongitude, maxlongitude, latitude, longitude, minradius, maxradius, mindepth, maxdepth, minmagnitude, maxmagnitude, magnitudetype, eventtype, includeallorigins, includeallmagnitudes, includearrivals, eventid, limit, offset, orderby, catalog, contributor, updatedafter, filename, **kwargs)\u001b[0m\n\u001b[1;32m    554\u001b[0m     data_stream\u001b[38;5;241m.\u001b[39mclose()\n\u001b[1;32m    555\u001b[0m \u001b[38;5;28;01melse\u001b[39;00m:\n\u001b[0;32m--> 556\u001b[0m     cat \u001b[38;5;241m=\u001b[39m \u001b[43mobspy\u001b[49m\u001b[38;5;241;43m.\u001b[39;49m\u001b[43mread_events\u001b[49m\u001b[43m(\u001b[49m\u001b[43mdata_stream\u001b[49m\u001b[43m,\u001b[49m\u001b[43m \u001b[49m\u001b[38;5;28;43mformat\u001b[39;49m\u001b[38;5;241;43m=\u001b[39;49m\u001b[38;5;124;43m\"\u001b[39;49m\u001b[38;5;124;43mquakeml\u001b[39;49m\u001b[38;5;124;43m\"\u001b[39;49m\u001b[43m)\u001b[49m\n\u001b[1;32m    557\u001b[0m     data_stream\u001b[38;5;241m.\u001b[39mclose()\n\u001b[1;32m    558\u001b[0m     \u001b[38;5;28;01mreturn\u001b[39;00m cat\n",
      "File \u001b[0;32m~/Applications/ObsPy_1.4.0/lib/python3.10/site-packages/decorator.py:232\u001b[0m, in \u001b[0;36mdecorate.<locals>.fun\u001b[0;34m(*args, **kw)\u001b[0m\n\u001b[1;32m    230\u001b[0m \u001b[38;5;28;01mif\u001b[39;00m \u001b[38;5;129;01mnot\u001b[39;00m kwsyntax:\n\u001b[1;32m    231\u001b[0m     args, kw \u001b[38;5;241m=\u001b[39m fix(args, kw, sig)\n\u001b[0;32m--> 232\u001b[0m \u001b[38;5;28;01mreturn\u001b[39;00m \u001b[43mcaller\u001b[49m\u001b[43m(\u001b[49m\u001b[43mfunc\u001b[49m\u001b[43m,\u001b[49m\u001b[43m \u001b[49m\u001b[38;5;241;43m*\u001b[39;49m\u001b[43m(\u001b[49m\u001b[43mextras\u001b[49m\u001b[43m \u001b[49m\u001b[38;5;241;43m+\u001b[39;49m\u001b[43m \u001b[49m\u001b[43margs\u001b[49m\u001b[43m)\u001b[49m\u001b[43m,\u001b[49m\u001b[43m \u001b[49m\u001b[38;5;241;43m*\u001b[39;49m\u001b[38;5;241;43m*\u001b[39;49m\u001b[43mkw\u001b[49m\u001b[43m)\u001b[49m\n",
      "File \u001b[0;32m~/Applications/ObsPy_1.4.0/lib/python3.10/site-packages/obspy/core/util/decorator.py:297\u001b[0m, in \u001b[0;36mmap_example_filename.<locals>._map_example_filename\u001b[0;34m(func, *args, **kwargs)\u001b[0m\n\u001b[1;32m    295\u001b[0m                 \u001b[38;5;28;01mexcept\u001b[39;00m \u001b[38;5;167;01mIOError\u001b[39;00m:\n\u001b[1;32m    296\u001b[0m                     \u001b[38;5;28;01mpass\u001b[39;00m\n\u001b[0;32m--> 297\u001b[0m \u001b[38;5;28;01mreturn\u001b[39;00m \u001b[43mfunc\u001b[49m\u001b[43m(\u001b[49m\u001b[38;5;241;43m*\u001b[39;49m\u001b[43margs\u001b[49m\u001b[43m,\u001b[49m\u001b[43m \u001b[49m\u001b[38;5;241;43m*\u001b[39;49m\u001b[38;5;241;43m*\u001b[39;49m\u001b[43mkwargs\u001b[49m\u001b[43m)\u001b[49m\n",
      "File \u001b[0;32m~/Applications/ObsPy_1.4.0/lib/python3.10/site-packages/obspy/core/event/catalog.py:810\u001b[0m, in \u001b[0;36mread_events\u001b[0;34m(pathname_or_url, format, **kwargs)\u001b[0m\n\u001b[1;32m    808\u001b[0m     \u001b[38;5;28;01mreturn\u001b[39;00m _create_example_catalog()\n\u001b[1;32m    809\u001b[0m \u001b[38;5;28;01melse\u001b[39;00m:\n\u001b[0;32m--> 810\u001b[0m     \u001b[38;5;28;01mreturn\u001b[39;00m \u001b[43m_generic_reader\u001b[49m\u001b[43m(\u001b[49m\u001b[43mpathname_or_url\u001b[49m\u001b[43m,\u001b[49m\u001b[43m \u001b[49m\u001b[43m_read\u001b[49m\u001b[43m,\u001b[49m\u001b[43m \u001b[49m\u001b[38;5;28;43mformat\u001b[39;49m\u001b[38;5;241;43m=\u001b[39;49m\u001b[38;5;28;43mformat\u001b[39;49m\u001b[43m,\u001b[49m\u001b[43m \u001b[49m\u001b[38;5;241;43m*\u001b[39;49m\u001b[38;5;241;43m*\u001b[39;49m\u001b[43mkwargs\u001b[49m\u001b[43m)\u001b[49m\n",
      "File \u001b[0;32m~/Applications/ObsPy_1.4.0/lib/python3.10/site-packages/obspy/core/util/base.py:624\u001b[0m, in \u001b[0;36m_generic_reader\u001b[0;34m(pathname_or_url, callback_func, **kwargs)\u001b[0m\n\u001b[1;32m    620\u001b[0m \u001b[38;5;28;01mif\u001b[39;00m \u001b[38;5;129;01mnot\u001b[39;00m \u001b[38;5;28misinstance\u001b[39m(pathname_or_url, \u001b[38;5;28mstr\u001b[39m):\n\u001b[1;32m    621\u001b[0m     \u001b[38;5;66;03m# not a string - we assume a file-like object\u001b[39;00m\n\u001b[1;32m    622\u001b[0m     \u001b[38;5;28;01mtry\u001b[39;00m:\n\u001b[1;32m    623\u001b[0m         \u001b[38;5;66;03m# first try reading directly\u001b[39;00m\n\u001b[0;32m--> 624\u001b[0m         generic \u001b[38;5;241m=\u001b[39m \u001b[43mcallback_func\u001b[49m\u001b[43m(\u001b[49m\u001b[43mpathname_or_url\u001b[49m\u001b[43m,\u001b[49m\u001b[43m \u001b[49m\u001b[38;5;241;43m*\u001b[39;49m\u001b[38;5;241;43m*\u001b[39;49m\u001b[43mkwargs\u001b[49m\u001b[43m)\u001b[49m\n\u001b[1;32m    625\u001b[0m     \u001b[38;5;28;01mexcept\u001b[39;00m \u001b[38;5;167;01mTypeError\u001b[39;00m:\n\u001b[1;32m    626\u001b[0m         \u001b[38;5;66;03m# if this fails, create a temporary file which is read directly\u001b[39;00m\n\u001b[1;32m    627\u001b[0m         \u001b[38;5;66;03m# from the file system\u001b[39;00m\n\u001b[1;32m    628\u001b[0m         pathname_or_url\u001b[38;5;241m.\u001b[39mseek(\u001b[38;5;241m0\u001b[39m)\n",
      "File \u001b[0;32m~/Applications/ObsPy_1.4.0/lib/python3.10/site-packages/decorator.py:232\u001b[0m, in \u001b[0;36mdecorate.<locals>.fun\u001b[0;34m(*args, **kw)\u001b[0m\n\u001b[1;32m    230\u001b[0m \u001b[38;5;28;01mif\u001b[39;00m \u001b[38;5;129;01mnot\u001b[39;00m kwsyntax:\n\u001b[1;32m    231\u001b[0m     args, kw \u001b[38;5;241m=\u001b[39m fix(args, kw, sig)\n\u001b[0;32m--> 232\u001b[0m \u001b[38;5;28;01mreturn\u001b[39;00m \u001b[43mcaller\u001b[49m\u001b[43m(\u001b[49m\u001b[43mfunc\u001b[49m\u001b[43m,\u001b[49m\u001b[43m \u001b[49m\u001b[38;5;241;43m*\u001b[39;49m\u001b[43m(\u001b[49m\u001b[43mextras\u001b[49m\u001b[43m \u001b[49m\u001b[38;5;241;43m+\u001b[39;49m\u001b[43m \u001b[49m\u001b[43margs\u001b[49m\u001b[43m)\u001b[49m\u001b[43m,\u001b[49m\u001b[43m \u001b[49m\u001b[38;5;241;43m*\u001b[39;49m\u001b[38;5;241;43m*\u001b[39;49m\u001b[43mkw\u001b[49m\u001b[43m)\u001b[49m\n",
      "File \u001b[0;32m~/Applications/ObsPy_1.4.0/lib/python3.10/site-packages/obspy/core/util/decorator.py:142\u001b[0m, in \u001b[0;36muncompress_file\u001b[0;34m(func, filename, *args, **kwargs)\u001b[0m\n\u001b[1;32m    140\u001b[0m     \u001b[38;5;28;01mreturn\u001b[39;00m func(filename, \u001b[38;5;241m*\u001b[39margs, \u001b[38;5;241m*\u001b[39m\u001b[38;5;241m*\u001b[39mkwargs)\n\u001b[1;32m    141\u001b[0m \u001b[38;5;28;01mif\u001b[39;00m \u001b[38;5;129;01mnot\u001b[39;00m \u001b[38;5;28misinstance\u001b[39m(filename, \u001b[38;5;28mstr\u001b[39m):\n\u001b[0;32m--> 142\u001b[0m     \u001b[38;5;28;01mreturn\u001b[39;00m \u001b[43mfunc\u001b[49m\u001b[43m(\u001b[49m\u001b[43mfilename\u001b[49m\u001b[43m,\u001b[49m\u001b[43m \u001b[49m\u001b[38;5;241;43m*\u001b[39;49m\u001b[43margs\u001b[49m\u001b[43m,\u001b[49m\u001b[43m \u001b[49m\u001b[38;5;241;43m*\u001b[39;49m\u001b[38;5;241;43m*\u001b[39;49m\u001b[43mkwargs\u001b[49m\u001b[43m)\u001b[49m\n\u001b[1;32m    143\u001b[0m \u001b[38;5;28;01melif\u001b[39;00m \u001b[38;5;129;01mnot\u001b[39;00m Path(filename)\u001b[38;5;241m.\u001b[39mexists():\n\u001b[1;32m    144\u001b[0m     msg \u001b[38;5;241m=\u001b[39m \u001b[38;5;124m\"\u001b[39m\u001b[38;5;124mFile not found \u001b[39m\u001b[38;5;124m'\u001b[39m\u001b[38;5;132;01m%s\u001b[39;00m\u001b[38;5;124m'\u001b[39m\u001b[38;5;124m\"\u001b[39m \u001b[38;5;241m%\u001b[39m (filename)\n",
      "File \u001b[0;32m~/Applications/ObsPy_1.4.0/lib/python3.10/site-packages/obspy/core/event/catalog.py:818\u001b[0m, in \u001b[0;36m_read\u001b[0;34m(filename, format, **kwargs)\u001b[0m\n\u001b[1;32m    813\u001b[0m \u001b[38;5;129m@uncompress_file\u001b[39m\n\u001b[1;32m    814\u001b[0m \u001b[38;5;28;01mdef\u001b[39;00m \u001b[38;5;21m_read\u001b[39m(filename, \u001b[38;5;28mformat\u001b[39m\u001b[38;5;241m=\u001b[39m\u001b[38;5;28;01mNone\u001b[39;00m, \u001b[38;5;241m*\u001b[39m\u001b[38;5;241m*\u001b[39mkwargs):\n\u001b[1;32m    815\u001b[0m \u001b[38;5;250m    \u001b[39m\u001b[38;5;124;03m\"\"\"\u001b[39;00m\n\u001b[1;32m    816\u001b[0m \u001b[38;5;124;03m    Reads a single event file into a ObsPy Catalog object.\u001b[39;00m\n\u001b[1;32m    817\u001b[0m \u001b[38;5;124;03m    \"\"\"\u001b[39;00m\n\u001b[0;32m--> 818\u001b[0m     catalog, \u001b[38;5;28mformat\u001b[39m \u001b[38;5;241m=\u001b[39m \u001b[43m_read_from_plugin\u001b[49m\u001b[43m(\u001b[49m\u001b[38;5;124;43m'\u001b[39;49m\u001b[38;5;124;43mevent\u001b[39;49m\u001b[38;5;124;43m'\u001b[39;49m\u001b[43m,\u001b[49m\u001b[43m \u001b[49m\u001b[43mfilename\u001b[49m\u001b[43m,\u001b[49m\u001b[43m \u001b[49m\u001b[38;5;28;43mformat\u001b[39;49m\u001b[38;5;241;43m=\u001b[39;49m\u001b[38;5;28;43mformat\u001b[39;49m\u001b[43m,\u001b[49m\n\u001b[1;32m    819\u001b[0m \u001b[43m                                        \u001b[49m\u001b[38;5;241;43m*\u001b[39;49m\u001b[38;5;241;43m*\u001b[39;49m\u001b[43mkwargs\u001b[49m\u001b[43m)\u001b[49m\n\u001b[1;32m    820\u001b[0m     \u001b[38;5;28;01mfor\u001b[39;00m event \u001b[38;5;129;01min\u001b[39;00m catalog:\n\u001b[1;32m    821\u001b[0m         event\u001b[38;5;241m.\u001b[39m_format \u001b[38;5;241m=\u001b[39m \u001b[38;5;28mformat\u001b[39m\n",
      "File \u001b[0;32m~/Applications/ObsPy_1.4.0/lib/python3.10/site-packages/obspy/core/util/base.py:423\u001b[0m, in \u001b[0;36m_read_from_plugin\u001b[0;34m(plugin_type, filename, format, **kwargs)\u001b[0m\n\u001b[1;32m    421\u001b[0m     \u001b[38;5;28;01mraise\u001b[39;00m \u001b[38;5;167;01mTypeError\u001b[39;00m(msg \u001b[38;5;241m%\u001b[39m (format_ep\u001b[38;5;241m.\u001b[39mname, \u001b[38;5;124m'\u001b[39m\u001b[38;5;124m, \u001b[39m\u001b[38;5;124m'\u001b[39m\u001b[38;5;241m.\u001b[39mjoin(eps)))\n\u001b[1;32m    422\u001b[0m \u001b[38;5;66;03m# read\u001b[39;00m\n\u001b[0;32m--> 423\u001b[0m list_obj \u001b[38;5;241m=\u001b[39m \u001b[43mread_format\u001b[49m\u001b[43m(\u001b[49m\u001b[43mfilename\u001b[49m\u001b[43m,\u001b[49m\u001b[43m \u001b[49m\u001b[38;5;241;43m*\u001b[39;49m\u001b[38;5;241;43m*\u001b[39;49m\u001b[43mkwargs\u001b[49m\u001b[43m)\u001b[49m\n\u001b[1;32m    424\u001b[0m \u001b[38;5;28;01mreturn\u001b[39;00m list_obj, format_ep\u001b[38;5;241m.\u001b[39mname\n",
      "File \u001b[0;32m~/Applications/ObsPy_1.4.0/lib/python3.10/site-packages/obspy/io/quakeml/core.py:1833\u001b[0m, in \u001b[0;36m_read_quakeml\u001b[0;34m(filename)\u001b[0m\n\u001b[1;32m   1810\u001b[0m \u001b[38;5;28;01mdef\u001b[39;00m \u001b[38;5;21m_read_quakeml\u001b[39m(filename):\n\u001b[1;32m   1811\u001b[0m \u001b[38;5;250m    \u001b[39m\u001b[38;5;124;03m\"\"\"\u001b[39;00m\n\u001b[1;32m   1812\u001b[0m \u001b[38;5;124;03m    Reads a QuakeML file and returns an ObsPy Catalog object.\u001b[39;00m\n\u001b[1;32m   1813\u001b[0m \n\u001b[0;32m   (...)\u001b[0m\n\u001b[1;32m   1831\u001b[0m \u001b[38;5;124;03m    2006-09-10T04:26:33.610000Z |  +9.614, +121.961 | 9.8  MS\u001b[39;00m\n\u001b[1;32m   1832\u001b[0m \u001b[38;5;124;03m    \"\"\"\u001b[39;00m\n\u001b[0;32m-> 1833\u001b[0m     \u001b[38;5;28;01mreturn\u001b[39;00m \u001b[43mUnpickler\u001b[49m\u001b[43m(\u001b[49m\u001b[43m)\u001b[49m\u001b[38;5;241;43m.\u001b[39;49m\u001b[43mload\u001b[49m\u001b[43m(\u001b[49m\u001b[43mfilename\u001b[49m\u001b[43m)\u001b[49m\n",
      "File \u001b[0;32m~/Applications/ObsPy_1.4.0/lib/python3.10/site-packages/obspy/io/quakeml/core.py:149\u001b[0m, in \u001b[0;36mUnpickler.load\u001b[0;34m(self, file)\u001b[0m\n\u001b[1;32m    140\u001b[0m \u001b[38;5;250m\u001b[39m\u001b[38;5;124;03m\"\"\"\u001b[39;00m\n\u001b[1;32m    141\u001b[0m \u001b[38;5;124;03mReads QuakeML file into ObsPy catalog object.\u001b[39;00m\n\u001b[1;32m    142\u001b[0m \n\u001b[0;32m   (...)\u001b[0m\n\u001b[1;32m    146\u001b[0m \u001b[38;5;124;03m:returns: ObsPy Catalog object.\u001b[39;00m\n\u001b[1;32m    147\u001b[0m \u001b[38;5;124;03m\"\"\"\u001b[39;00m\n\u001b[1;32m    148\u001b[0m \u001b[38;5;28mself\u001b[39m\u001b[38;5;241m.\u001b[39mxml_doc \u001b[38;5;241m=\u001b[39m _xml_doc_from_anything(file)\n\u001b[0;32m--> 149\u001b[0m \u001b[38;5;28;01mreturn\u001b[39;00m \u001b[38;5;28;43mself\u001b[39;49m\u001b[38;5;241;43m.\u001b[39;49m\u001b[43m_deserialize\u001b[49m\u001b[43m(\u001b[49m\u001b[43m)\u001b[49m\n",
      "File \u001b[0;32m~/Applications/ObsPy_1.4.0/lib/python3.10/site-packages/obspy/io/quakeml/core.py:964\u001b[0m, in \u001b[0;36mUnpickler._deserialize\u001b[0;34m(self)\u001b[0m\n\u001b[1;32m    962\u001b[0m arrivals \u001b[38;5;241m=\u001b[39m []\n\u001b[1;32m    963\u001b[0m \u001b[38;5;28;01mfor\u001b[39;00m arrival_el \u001b[38;5;129;01min\u001b[39;00m \u001b[38;5;28mself\u001b[39m\u001b[38;5;241m.\u001b[39m_xpath(\u001b[38;5;124m'\u001b[39m\u001b[38;5;124marrival\u001b[39m\u001b[38;5;124m'\u001b[39m, origin_el):\n\u001b[0;32m--> 964\u001b[0m     arrival \u001b[38;5;241m=\u001b[39m \u001b[38;5;28;43mself\u001b[39;49m\u001b[38;5;241;43m.\u001b[39;49m\u001b[43m_arrival\u001b[49m\u001b[43m(\u001b[49m\u001b[43marrival_el\u001b[49m\u001b[43m)\u001b[49m\n\u001b[1;32m    965\u001b[0m     arrivals\u001b[38;5;241m.\u001b[39mappend(arrival)\n\u001b[1;32m    967\u001b[0m origin \u001b[38;5;241m=\u001b[39m \u001b[38;5;28mself\u001b[39m\u001b[38;5;241m.\u001b[39m_origin(origin_el, arrivals\u001b[38;5;241m=\u001b[39marrivals)\n",
      "File \u001b[0;32m~/Applications/ObsPy_1.4.0/lib/python3.10/site-packages/obspy/io/quakeml/core.py:435\u001b[0m, in \u001b[0;36mUnpickler._arrival\u001b[0;34m(self, element)\u001b[0m\n\u001b[1;32m    428\u001b[0m \u001b[38;5;28;01mdef\u001b[39;00m \u001b[38;5;21m_arrival\u001b[39m(\u001b[38;5;28mself\u001b[39m, element):\n\u001b[1;32m    429\u001b[0m \u001b[38;5;250m    \u001b[39m\u001b[38;5;124;03m\"\"\"\u001b[39;00m\n\u001b[1;32m    430\u001b[0m \u001b[38;5;124;03m    Converts an etree.Element into an Arrival object.\u001b[39;00m\n\u001b[1;32m    431\u001b[0m \n\u001b[1;32m    432\u001b[0m \u001b[38;5;124;03m    :type element: :class:`~lxml.etree._Element`\u001b[39;00m\n\u001b[1;32m    433\u001b[0m \u001b[38;5;124;03m    :rtype: :class:`~obspy.core.event.origin.Arrival`\u001b[39;00m\n\u001b[1;32m    434\u001b[0m \u001b[38;5;124;03m    \"\"\"\u001b[39;00m\n\u001b[0;32m--> 435\u001b[0m     obj \u001b[38;5;241m=\u001b[39m \u001b[43mArrival\u001b[49m\u001b[43m(\u001b[49m\u001b[43mforce_resource_id\u001b[49m\u001b[38;5;241;43m=\u001b[39;49m\u001b[38;5;28;43;01mFalse\u001b[39;49;00m\u001b[43m)\u001b[49m\n\u001b[1;32m    436\u001b[0m     \u001b[38;5;66;03m# required parameter\u001b[39;00m\n\u001b[1;32m    437\u001b[0m     obj\u001b[38;5;241m.\u001b[39mpick_id \u001b[38;5;241m=\u001b[39m \u001b[38;5;28mself\u001b[39m\u001b[38;5;241m.\u001b[39m_xpath2obj(\u001b[38;5;124m'\u001b[39m\u001b[38;5;124mpickID\u001b[39m\u001b[38;5;124m'\u001b[39m, element) \u001b[38;5;129;01mor\u001b[39;00m \u001b[38;5;124m'\u001b[39m\u001b[38;5;124m'\u001b[39m\n",
      "File \u001b[0;32m~/Applications/ObsPy_1.4.0/lib/python3.10/site-packages/obspy/core/event/base.py:406\u001b[0m, in \u001b[0;36m_event_type_class_factory.<locals>.AbstractEventTypeWithResourceID.__init__\u001b[0;34m(self, force_resource_id, *args, **kwargs)\u001b[0m\n\u001b[1;32m    404\u001b[0m \u001b[38;5;28;01mdef\u001b[39;00m \u001b[38;5;21m__init__\u001b[39m(\u001b[38;5;28mself\u001b[39m, force_resource_id\u001b[38;5;241m=\u001b[39m\u001b[38;5;28;01mTrue\u001b[39;00m, \u001b[38;5;241m*\u001b[39margs, \u001b[38;5;241m*\u001b[39m\u001b[38;5;241m*\u001b[39mkwargs):\n\u001b[1;32m    405\u001b[0m     kwargs[\u001b[38;5;124m\"\u001b[39m\u001b[38;5;124mforce_resource_id\u001b[39m\u001b[38;5;124m\"\u001b[39m] \u001b[38;5;241m=\u001b[39m force_resource_id\n\u001b[0;32m--> 406\u001b[0m     \u001b[38;5;28;43msuper\u001b[39;49m\u001b[43m(\u001b[49m\u001b[43mAbstractEventTypeWithResourceID\u001b[49m\u001b[43m,\u001b[49m\u001b[43m \u001b[49m\u001b[38;5;28;43mself\u001b[39;49m\u001b[43m)\u001b[49m\u001b[38;5;241;43m.\u001b[39;49m\u001b[38;5;21;43m__init__\u001b[39;49m\u001b[43m(\u001b[49m\u001b[38;5;241;43m*\u001b[39;49m\u001b[43margs\u001b[49m\u001b[43m,\u001b[49m\n\u001b[1;32m    407\u001b[0m \u001b[43m                                                          \u001b[49m\u001b[38;5;241;43m*\u001b[39;49m\u001b[38;5;241;43m*\u001b[39;49m\u001b[43mkwargs\u001b[49m\u001b[43m)\u001b[49m\n",
      "File \u001b[0;32m~/Applications/ObsPy_1.4.0/lib/python3.10/site-packages/obspy/core/event/base.py:230\u001b[0m, in \u001b[0;36m_event_type_class_factory.<locals>.AbstractEventType.__init__\u001b[0;34m(self, *args, **kwargs)\u001b[0m\n\u001b[1;32m    228\u001b[0m \u001b[38;5;28;01mfor\u001b[39;00m key, _ \u001b[38;5;129;01min\u001b[39;00m \u001b[38;5;28mself\u001b[39m\u001b[38;5;241m.\u001b[39m_properties:\n\u001b[1;32m    229\u001b[0m     \u001b[38;5;28;01mif\u001b[39;00m key\u001b[38;5;241m.\u001b[39mendswith(\u001b[38;5;124m\"\u001b[39m\u001b[38;5;124m_errors\u001b[39m\u001b[38;5;124m\"\u001b[39m) \u001b[38;5;129;01mand\u001b[39;00m \u001b[38;5;28mgetattr\u001b[39m(\u001b[38;5;28mself\u001b[39m, key) \u001b[38;5;129;01mis\u001b[39;00m \u001b[38;5;28;01mNone\u001b[39;00m:\n\u001b[0;32m--> 230\u001b[0m         \u001b[38;5;28msetattr\u001b[39m(\u001b[38;5;28mself\u001b[39m, key, \u001b[43mQuantityError\u001b[49m\u001b[43m(\u001b[49m\u001b[43m)\u001b[49m)\n",
      "File \u001b[0;32m~/Applications/ObsPy_1.4.0/lib/python3.10/site-packages/obspy/core/event/base.py:56\u001b[0m, in \u001b[0;36mQuantityError.__init__\u001b[0;34m(self, uncertainty, lower_uncertainty, upper_uncertainty, confidence_level)\u001b[0m\n\u001b[1;32m     54\u001b[0m \u001b[38;5;28;01mdef\u001b[39;00m \u001b[38;5;21m__init__\u001b[39m(\u001b[38;5;28mself\u001b[39m, uncertainty\u001b[38;5;241m=\u001b[39m\u001b[38;5;28;01mNone\u001b[39;00m, lower_uncertainty\u001b[38;5;241m=\u001b[39m\u001b[38;5;28;01mNone\u001b[39;00m,\n\u001b[1;32m     55\u001b[0m              upper_uncertainty\u001b[38;5;241m=\u001b[39m\u001b[38;5;28;01mNone\u001b[39;00m, confidence_level\u001b[38;5;241m=\u001b[39m\u001b[38;5;28;01mNone\u001b[39;00m):\n\u001b[0;32m---> 56\u001b[0m     \u001b[38;5;28;43msuper\u001b[39;49m\u001b[43m(\u001b[49m\u001b[43mQuantityError\u001b[49m\u001b[43m,\u001b[49m\u001b[43m \u001b[49m\u001b[38;5;28;43mself\u001b[39;49m\u001b[43m)\u001b[49m\u001b[38;5;241;43m.\u001b[39;49m\u001b[38;5;21;43m__init__\u001b[39;49m\u001b[43m(\u001b[49m\u001b[43m)\u001b[49m\n\u001b[1;32m     57\u001b[0m     \u001b[38;5;28mself\u001b[39m\u001b[38;5;241m.\u001b[39muncertainty \u001b[38;5;241m=\u001b[39m uncertainty\n\u001b[1;32m     58\u001b[0m     \u001b[38;5;28mself\u001b[39m\u001b[38;5;241m.\u001b[39mlower_uncertainty \u001b[38;5;241m=\u001b[39m lower_uncertainty\n",
      "File \u001b[0;32m~/Applications/ObsPy_1.4.0/lib/python3.10/site-packages/obspy/core/util/attribdict.py:87\u001b[0m, in \u001b[0;36mAttribDict.__init__\u001b[0;34m(self, *args, **kwargs)\u001b[0m\n\u001b[1;32m     74\u001b[0m \u001b[38;5;250m\u001b[39m\u001b[38;5;124;03m\"\"\"\u001b[39;00m\n\u001b[1;32m     75\u001b[0m \u001b[38;5;124;03mAn AttribDict can be initialized in two ways. It can be given an\u001b[39;00m\n\u001b[1;32m     76\u001b[0m \u001b[38;5;124;03mexisting dictionary as a simple argument or alternatively all keyword\u001b[39;00m\n\u001b[0;32m   (...)\u001b[0m\n\u001b[1;32m     83\u001b[0m \u001b[38;5;124;03m>>> assert(attrib_dict_1 == attrib_dict_2)\u001b[39;00m\n\u001b[1;32m     84\u001b[0m \u001b[38;5;124;03m\"\"\"\u001b[39;00m\n\u001b[1;32m     85\u001b[0m \u001b[38;5;66;03m# set default values directly\u001b[39;00m\n\u001b[1;32m     86\u001b[0m \u001b[38;5;66;03m#: Calling the Subclassed dict update method\u001b[39;00m\n\u001b[0;32m---> 87\u001b[0m \u001b[38;5;28;43mself\u001b[39;49m\u001b[38;5;241;43m.\u001b[39;49m\u001b[38;5;18;43m__dict__\u001b[39;49m\u001b[38;5;241;43m.\u001b[39;49m\u001b[43mupdate\u001b[49m\u001b[43m(\u001b[49m\u001b[38;5;28;43mself\u001b[39;49m\u001b[38;5;241;43m.\u001b[39;49m\u001b[43mdefaults\u001b[49m\u001b[43m)\u001b[49m\n\u001b[1;32m     88\u001b[0m \u001b[38;5;66;03m# use overwritable update method to set arguments\u001b[39;00m\n\u001b[1;32m     89\u001b[0m \u001b[38;5;66;03m#: Subclassed update method\u001b[39;00m\n\u001b[1;32m     90\u001b[0m \u001b[38;5;28mself\u001b[39m\u001b[38;5;241m.\u001b[39mupdate(\u001b[38;5;28mdict\u001b[39m(\u001b[38;5;241m*\u001b[39margs, \u001b[38;5;241m*\u001b[39m\u001b[38;5;241m*\u001b[39mkwargs))\n",
      "\u001b[0;31mKeyboardInterrupt\u001b[0m: "
     ]
    }
   ],
   "source": [
    "client = Client(\"ISC\")\n",
    "t1 = utc(\"2020-01-01T00:00:00\")\n",
    "t2 = utc(\"2020-01-02T00:00:00\")\n",
    "cat = client.get_events(starttime=t1, endtime=t2, minmagnitude=4.5,\n",
    "                        includearrivals=True, includeallorigins=False)"
   ]
  },
  {
   "cell_type": "code",
   "execution_count": 3,
   "metadata": {},
   "outputs": [
    {
     "name": "stderr",
     "output_type": "stream",
     "text": [
      "/home/iman/Applications/ObsPy_1.4.0/lib/python3.10/site-packages/obspy/io/nordic/utils.py:184: UserWarning: Lines of type I have not been implemented yet, please submit a development request\n",
      "  warnings.warn(\"Lines of type %s have not been implemented yet, \"\n"
     ]
    }
   ],
   "source": [
    "from obspy import read_events\n",
    "cat1 = read_events('/home/iman/Documents/Ilam_s1.out')"
   ]
  },
  {
   "cell_type": "code",
   "execution_count": 12,
   "metadata": {},
   "outputs": [
    {
     "name": "stdout",
     "output_type": "stream",
     "text": [
      "True\n"
     ]
    }
   ],
   "source": [
    "import sys\n",
    "print('Catalog' in sys.modules) #True"
   ]
  },
  {
   "cell_type": "code",
   "execution_count": 15,
   "metadata": {},
   "outputs": [
    {
     "data": {
      "text/plain": [
       "<module 'Catalog' from '/home/iman/Documents/GitHub/SeisRoutine/Catalog.py'>"
      ]
     },
     "execution_count": 15,
     "metadata": {},
     "output_type": "execute_result"
    }
   ],
   "source": [
    "import importlib\n",
    "importlib.reload(Catalog)"
   ]
  },
  {
   "cell_type": "code",
   "execution_count": 16,
   "metadata": {},
   "outputs": [],
   "source": [
    "insp = Catalog.inspector(catalog=cat1)"
   ]
  },
  {
   "cell_type": "code",
   "execution_count": 17,
   "metadata": {},
   "outputs": [
    {
     "name": "stdout",
     "output_type": "stream",
     "text": [
      "Number of calculated s-p: 4853\n",
      "Number of all phases: 14643\n",
      "Number of P-type phases: 9798\n",
      "Number of S-type phases: 4844\n"
     ]
    },
    {
     "data": {
      "image/png": "[encoded data removed]",
      "text/plain": [
       "<Figure size 700x400 with 1 Axes>"
      ]
     },
     "metadata": {},
     "output_type": "display_data"
    }
   ],
   "source": [
    "insp.plot_hist_SminusP(bins=50)"
   ]
  },
  {
   "cell_type": "code",
   "execution_count": null,
   "metadata": {},
   "outputs": [],
   "source": [
    "insp.plot_bar_phasetype()"
   ]
  },
  {
   "cell_type": "code",
   "execution_count": null,
   "metadata": {},
   "outputs": [],
   "source": [
    "df = insp.df_phases\n",
    "keys = ['otime', 'resource_id', 'network', 'station', 'phase', 'time']\n",
    "df_p = df[df['phase']=='Pg'][keys]\n",
    "df_s = df[df['phase']=='Sg'][keys]\n",
    "df_p['otime'] = df_p['otime'].apply(lambda x: x.timestamp)\n",
    "df_s['otime'] = df_s['otime'].apply(lambda x: x.timestamp)"
   ]
  },
  {
   "cell_type": "code",
   "execution_count": null,
   "metadata": {},
   "outputs": [],
   "source": [
    "df['phase'].str.upper().str.startswith('P')"
   ]
  },
  {
   "cell_type": "code",
   "execution_count": null,
   "metadata": {},
   "outputs": [],
   "source": [
    "a = 'sdf'\n",
    "a.st"
   ]
  },
  {
   "cell_type": "code",
   "execution_count": null,
   "metadata": {},
   "outputs": [],
   "source": [
    "df_p"
   ]
  },
  {
   "cell_type": "code",
   "execution_count": null,
   "metadata": {},
   "outputs": [],
   "source": [
    "df_s"
   ]
  },
  {
   "cell_type": "code",
   "execution_count": null,
   "metadata": {},
   "outputs": [],
   "source": [
    "print(df_p.shape, df_s.shape)"
   ]
  },
  {
   "cell_type": "code",
   "execution_count": null,
   "metadata": {},
   "outputs": [],
   "source": [
    "df_merge = df_p.merge(df_s, how='inner', on=['station', 'network', 'otime'])\n",
    "df_merge"
   ]
  },
  {
   "cell_type": "code",
   "execution_count": null,
   "metadata": {},
   "outputs": [],
   "source": [
    "df_merge[['phase_x', 'phase_y']]"
   ]
  },
  {
   "cell_type": "code",
   "execution_count": null,
   "metadata": {},
   "outputs": [],
   "source": [
    "sp = df_merge['time_y'] - df_merge['time_x']\n",
    "sp.hist()"
   ]
  },
  {
   "cell_type": "code",
   "execution_count": null,
   "metadata": {},
   "outputs": [],
   "source": [
    "df_merge.keys()"
   ]
  },
  {
   "cell_type": "code",
   "execution_count": null,
   "metadata": {},
   "outputs": [],
   "source": [
    "insp.plot_residual_vs_distance()"
   ]
  },
  {
   "cell_type": "code",
   "execution_count": null,
   "metadata": {},
   "outputs": [],
   "source": [
    "insp.plot_traveltime()"
   ]
  },
  {
   "cell_type": "code",
   "execution_count": null,
   "metadata": {},
   "outputs": [],
   "source": [
    "insp.plot_hist_of_numeric(figsize=(8, 6), bins=30, edgecolor='k')"
   ]
  },
  {
   "cell_type": "code",
   "execution_count": null,
   "metadata": {},
   "outputs": [],
   "source": [
    "insp.plot_pie_of_none_numeric()"
   ]
  },
  {
   "cell_type": "code",
   "execution_count": null,
   "metadata": {},
   "outputs": [],
   "source": [
    "insp.plot_bar_of_none_numeric(figsize=(10, 4))"
   ]
  },
  {
   "cell_type": "code",
   "execution_count": null,
   "metadata": {},
   "outputs": [],
   "source": [
    "def ps_delta(catalog):\n",
    "    '''\n",
    "    Doc-string\n",
    "    '''\n",
    "    list_ps_delta = []\n",
    "    stations_ps_delta = {}\n",
    "    for ev in catalog:\n",
    "        stations_phases = {}\n",
    "        for pick in ev.picks:\n",
    "            if (pick.phase_hint is None) or ('A' in pick.phase_hint) or (pick.phase_hint == ''):\n",
    "                continue\n",
    "            if pick.waveform_id.station_code not in stations_phases.keys():\n",
    "                stations_phases[pick.waveform_id.station_code] = {}\n",
    "            stations_phases[pick.waveform_id.station_code][pick.phase_hint] = pick.time\n",
    "        for station, phases in stations_phases.items():\n",
    "            if len(phases) == 2:\n",
    "                ps_delta = phases['S'] - phases['P']\n",
    "                list_ps_delta.append(ps_delta)\n",
    "                if station not in stations_ps_delta.keys():\n",
    "                    stations_ps_delta[station] = []\n",
    "                stations_ps_delta[station].append(ps_delta)\n",
    "    return stations_ps_delta"
   ]
  },
  {
   "cell_type": "code",
   "execution_count": null,
   "metadata": {},
   "outputs": [],
   "source": [
    "insp.df_phases.keys()"
   ]
  },
  {
   "cell_type": "code",
   "execution_count": null,
   "metadata": {},
   "outputs": [],
   "source": [
    "insp.df_phases[['resource_id', 'network', 'station', 'phase_hint', 'time']]\n",
    "df_p = insp.df_phases['phase_hint'].upper()[0]=='P'\n",
    "df_s = insp.df_phases['phase_hint'].upper()[0]=='S'\n",
    "\n",
    "df_p = insp.df_phases[df_p]\n",
    "df_s = insp.df_phases[df_s]"
   ]
  },
  {
   "cell_type": "code",
   "execution_count": null,
   "metadata": {},
   "outputs": [],
   "source": [
    "def ps_delta(catalog, method='network', **kwargs):\n",
    "    '''\n",
    "    interval between p and s phases of events in same stations.\n",
    "    for select length of template phases.\n",
    "    '''\n",
    "    list_ps_delta = []\n",
    "    stations_ps_delta = {}\n",
    "    for ev in catalog:\n",
    "        stations_phases = {}\n",
    "        for pick in ev.picks:\n",
    "            if (pick.phase_hint is None) or ('A' in pick.phase_hint) or (pick.phase_hint == ''):\n",
    "                continue\n",
    "            station_name = pick.waveform_id.station_code\n",
    "            phase = pick.phase_hint\n",
    "            if station_name not in stations_phases.keys():\n",
    "                stations_phases[station_name] = {}\n",
    "            stations_phases[station_name][phase[0]] = pick.time\n",
    "        for station, phases in stations_phases.items():\n",
    "            if len(phases) == 2:\n",
    "                ps_delta = phases['S'] - phases['P']\n",
    "                list_ps_delta.append(ps_delta)\n",
    "                if station not in stations_ps_delta.keys():\n",
    "                    stations_ps_delta[station] = []\n",
    "                stations_ps_delta[station].append(ps_delta)\n",
    "    if method == 'network' or method == 'both':\n",
    "        print('max:', max(list_ps_delta))\n",
    "        print('min:', min(list_ps_delta))\n",
    "        counts, bins = np.histogram(list_ps_delta, bins=40)\n",
    "        fig = plt.figure(figsize=(8, 6))\n",
    "        ax = plt.gca()\n",
    "        ax.yaxis.set_tick_params(labelsize=15)\n",
    "        for axis in ['top','bottom','left','right']:\n",
    "            ax.spines[axis].set_linewidth(2)\n",
    "        plt.hist(bins[:-1], bins, weights=counts, edgecolor='black', linewidth=1.2)\n",
    "        plt.xticks(list(range(round(max(bins))+1)), fontsize=15)\n",
    "        plt.xlabel('Interval of P-S pairs [S]', fontsize=17)\n",
    "        plt.ylabel('Abundance [Count]', fontsize=17)\n",
    "        plt.title('Ilam reference catalog', fontsize=25)#, weight='bold')\n",
    "        kwargs.update(savefile=join(kwargs['path'], 'network.png'))\n",
    "        fig = _finalise_figure(fig=fig, **kwargs)\n",
    "    if method == 'stations' or method == 'both':\n",
    "        for station, deltas in stations_ps_delta.items():\n",
    "            print(station)\n",
    "            print('max:', max(deltas))\n",
    "            print('min:', min(deltas))\n",
    "            counts, bins = np.histogram(deltas, bins=40)\n",
    "            fig = plt.figure(figsize=(8, 6))\n",
    "            plt.hist(bins[:-1], bins, weights=counts)\n",
    "            plt.xlabel('Interval of P-S pairs [S]')\n",
    "            plt.ylabel('Abundance')\n",
    "            plt.title(station)\n",
    "            kwargs.update(savefile=join(kwargs['path'], f'{station}.png'))\n",
    "            fig = _finalise_figure(fig=fig, **kwargs)\n"
   ]
  }
 ],
 "metadata": {
  "kernelspec": {
   "display_name": "Mooc2023",
   "language": "python",
   "name": "python3"
  },
  "language_info": {
   "codemirror_mode": {
    "name": "ipython",
    "version": 3
   },
   "file_extension": ".py",
   "mimetype": "text/x-python",
   "name": "python",
   "nbconvert_exporter": "python",
   "pygments_lexer": "ipython3",
   "version": "3.10.12"
  }
 },
 "nbformat": 4,
 "nbformat_minor": 2
}
